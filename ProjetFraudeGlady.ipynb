{
  "nbformat": 4,
  "nbformat_minor": 0,
  "metadata": {
    "colab": {
      "name": "ProjetFraudeGlady.ipynb",
      "provenance": [],
      "collapsed_sections": [],
      "toc_visible": true,
      "include_colab_link": true
    },
    "kernelspec": {
      "name": "python3",
      "display_name": "Python 3"
    },
    "accelerator": "GPU"
  },
  "cells": [
    {
      "cell_type": "markdown",
      "metadata": {
        "id": "view-in-github",
        "colab_type": "text"
      },
      "source": [
        "<a href=\"https://colab.research.google.com/github/Gladybams/Projet_fraude/blob/master/ProjetFraudeGlady.ipynb\" target=\"_parent\"><img src=\"https://colab.research.google.com/assets/colab-badge.svg\" alt=\"Open In Colab\"/></a>"
      ]
    },
    {
      "cell_type": "markdown",
      "metadata": {
        "id": "veiImmSzVQwG",
        "colab_type": "text"
      },
      "source": [
        "#*On importe les librairies usuelles* "
      ]
    },
    {
      "cell_type": "code",
      "metadata": {
        "id": "28s3_Mlk0csV",
        "colab_type": "code",
        "colab": {}
      },
      "source": [
        "import pandas as pd\n",
        "import numpy as np\n",
        "import matplotlib.pyplot as plt\n",
        "import seaborn as sns\n",
        "from datetime import datetime\n",
        "from sklearn.ensemble import RandomForestClassifier\n",
        "from sklearn.metrics import precision_score, recall_score, f1_score"
      ],
      "execution_count": 0,
      "outputs": []
    },
    {
      "cell_type": "markdown",
      "metadata": {
        "id": "utldPJ4fUJeR",
        "colab_type": "text"
      },
      "source": [
        "#*On charge et visionne le dataset*"
      ]
    },
    {
      "cell_type": "code",
      "metadata": {
        "id": "ZMVfShIq0pzI",
        "colab_type": "code",
        "colab": {}
      },
      "source": [
        "dataset = pd.read_csv(\"fraud_data_country.csv\")"
      ],
      "execution_count": 0,
      "outputs": []
    },
    {
      "cell_type": "markdown",
      "metadata": {
        "id": "dGTPzIili6eT",
        "colab_type": "text"
      },
      "source": [
        "*On renomme la colonne \"class\" en \"result\" car certaines fonctionnalités de python ne réagissent pas à \"class\"*"
      ]
    },
    {
      "cell_type": "code",
      "metadata": {
        "id": "qnME5qQYi5Pe",
        "colab_type": "code",
        "colab": {}
      },
      "source": [
        "dataset[\"result\"] = dataset[\"class\"]"
      ],
      "execution_count": 0,
      "outputs": []
    },
    {
      "cell_type": "code",
      "metadata": {
        "id": "4PXqgfUw08z6",
        "colab_type": "code",
        "outputId": "5d3f9035-923e-4ee6-83b3-1ac58325ba0c",
        "colab": {
          "base_uri": "https://localhost:8080/",
          "height": 317
        }
      },
      "source": [
        "dataset.head()"
      ],
      "execution_count": 0,
      "outputs": [
        {
          "output_type": "execute_result",
          "data": {
            "text/html": [
              "<div>\n",
              "<style scoped>\n",
              "    .dataframe tbody tr th:only-of-type {\n",
              "        vertical-align: middle;\n",
              "    }\n",
              "\n",
              "    .dataframe tbody tr th {\n",
              "        vertical-align: top;\n",
              "    }\n",
              "\n",
              "    .dataframe thead th {\n",
              "        text-align: right;\n",
              "    }\n",
              "</style>\n",
              "<table border=\"1\" class=\"dataframe\">\n",
              "  <thead>\n",
              "    <tr style=\"text-align: right;\">\n",
              "      <th></th>\n",
              "      <th>Unnamed: 0</th>\n",
              "      <th>user_id</th>\n",
              "      <th>signup_time</th>\n",
              "      <th>purchase_time</th>\n",
              "      <th>purchase_value</th>\n",
              "      <th>device_id</th>\n",
              "      <th>source</th>\n",
              "      <th>browser</th>\n",
              "      <th>sex</th>\n",
              "      <th>age</th>\n",
              "      <th>ip_address</th>\n",
              "      <th>class</th>\n",
              "      <th>country</th>\n",
              "    </tr>\n",
              "  </thead>\n",
              "  <tbody>\n",
              "    <tr>\n",
              "      <th>0</th>\n",
              "      <td>0</td>\n",
              "      <td>22058</td>\n",
              "      <td>2015-02-24 22:55:49</td>\n",
              "      <td>2015-04-18 02:47:11</td>\n",
              "      <td>34</td>\n",
              "      <td>QVPSPJUOCKZAR</td>\n",
              "      <td>SEO</td>\n",
              "      <td>Chrome</td>\n",
              "      <td>M</td>\n",
              "      <td>39</td>\n",
              "      <td>7.327584e+08</td>\n",
              "      <td>0</td>\n",
              "      <td>Japan</td>\n",
              "    </tr>\n",
              "    <tr>\n",
              "      <th>1</th>\n",
              "      <td>1</td>\n",
              "      <td>333320</td>\n",
              "      <td>2015-06-07 20:39:50</td>\n",
              "      <td>2015-06-08 01:38:54</td>\n",
              "      <td>16</td>\n",
              "      <td>EOGFQPIZPYXFZ</td>\n",
              "      <td>Ads</td>\n",
              "      <td>Chrome</td>\n",
              "      <td>F</td>\n",
              "      <td>53</td>\n",
              "      <td>3.503114e+08</td>\n",
              "      <td>0</td>\n",
              "      <td>United States</td>\n",
              "    </tr>\n",
              "    <tr>\n",
              "      <th>2</th>\n",
              "      <td>2</td>\n",
              "      <td>1359</td>\n",
              "      <td>2015-01-01 18:52:44</td>\n",
              "      <td>2015-01-01 18:52:45</td>\n",
              "      <td>15</td>\n",
              "      <td>YSSKYOSJHPPLJ</td>\n",
              "      <td>SEO</td>\n",
              "      <td>Opera</td>\n",
              "      <td>M</td>\n",
              "      <td>53</td>\n",
              "      <td>2.621474e+09</td>\n",
              "      <td>1</td>\n",
              "      <td>United States</td>\n",
              "    </tr>\n",
              "    <tr>\n",
              "      <th>3</th>\n",
              "      <td>3</td>\n",
              "      <td>150084</td>\n",
              "      <td>2015-04-28 21:13:25</td>\n",
              "      <td>2015-05-04 13:54:50</td>\n",
              "      <td>44</td>\n",
              "      <td>ATGTXKYKUDUQN</td>\n",
              "      <td>SEO</td>\n",
              "      <td>Safari</td>\n",
              "      <td>M</td>\n",
              "      <td>41</td>\n",
              "      <td>3.840542e+09</td>\n",
              "      <td>0</td>\n",
              "      <td>unknown</td>\n",
              "    </tr>\n",
              "    <tr>\n",
              "      <th>4</th>\n",
              "      <td>4</td>\n",
              "      <td>221365</td>\n",
              "      <td>2015-07-21 07:09:52</td>\n",
              "      <td>2015-09-09 18:40:53</td>\n",
              "      <td>39</td>\n",
              "      <td>NAUITBZFJKHWW</td>\n",
              "      <td>Ads</td>\n",
              "      <td>Safari</td>\n",
              "      <td>M</td>\n",
              "      <td>45</td>\n",
              "      <td>4.155831e+08</td>\n",
              "      <td>0</td>\n",
              "      <td>United States</td>\n",
              "    </tr>\n",
              "  </tbody>\n",
              "</table>\n",
              "</div>"
            ],
            "text/plain": [
              "   Unnamed: 0  user_id          signup_time  ...    ip_address  class        country\n",
              "0           0    22058  2015-02-24 22:55:49  ...  7.327584e+08      0          Japan\n",
              "1           1   333320  2015-06-07 20:39:50  ...  3.503114e+08      0  United States\n",
              "2           2     1359  2015-01-01 18:52:44  ...  2.621474e+09      1  United States\n",
              "3           3   150084  2015-04-28 21:13:25  ...  3.840542e+09      0        unknown\n",
              "4           4   221365  2015-07-21 07:09:52  ...  4.155831e+08      0  United States\n",
              "\n",
              "[5 rows x 13 columns]"
            ]
          },
          "metadata": {
            "tags": []
          },
          "execution_count": 19
        }
      ]
    },
    {
      "cell_type": "code",
      "metadata": {
        "id": "I1R_RPzs0_P9",
        "colab_type": "code",
        "outputId": "a7896291-04fe-446b-e674-3c0f149e4751",
        "colab": {
          "base_uri": "https://localhost:8080/",
          "height": 286
        }
      },
      "source": [
        "dataset.describe()"
      ],
      "execution_count": 0,
      "outputs": [
        {
          "output_type": "execute_result",
          "data": {
            "text/html": [
              "<div>\n",
              "<style scoped>\n",
              "    .dataframe tbody tr th:only-of-type {\n",
              "        vertical-align: middle;\n",
              "    }\n",
              "\n",
              "    .dataframe tbody tr th {\n",
              "        vertical-align: top;\n",
              "    }\n",
              "\n",
              "    .dataframe thead th {\n",
              "        text-align: right;\n",
              "    }\n",
              "</style>\n",
              "<table border=\"1\" class=\"dataframe\">\n",
              "  <thead>\n",
              "    <tr style=\"text-align: right;\">\n",
              "      <th></th>\n",
              "      <th>Unnamed: 0</th>\n",
              "      <th>user_id</th>\n",
              "      <th>purchase_value</th>\n",
              "      <th>age</th>\n",
              "      <th>ip_address</th>\n",
              "      <th>class</th>\n",
              "      <th>result</th>\n",
              "    </tr>\n",
              "  </thead>\n",
              "  <tbody>\n",
              "    <tr>\n",
              "      <th>count</th>\n",
              "      <td>151112.000000</td>\n",
              "      <td>151112.000000</td>\n",
              "      <td>151112.000000</td>\n",
              "      <td>151112.000000</td>\n",
              "      <td>1.511120e+05</td>\n",
              "      <td>151112.000000</td>\n",
              "      <td>151112.000000</td>\n",
              "    </tr>\n",
              "    <tr>\n",
              "      <th>mean</th>\n",
              "      <td>75555.500000</td>\n",
              "      <td>200171.040970</td>\n",
              "      <td>36.935372</td>\n",
              "      <td>33.140704</td>\n",
              "      <td>2.152145e+09</td>\n",
              "      <td>0.093646</td>\n",
              "      <td>0.093646</td>\n",
              "    </tr>\n",
              "    <tr>\n",
              "      <th>std</th>\n",
              "      <td>43622.421276</td>\n",
              "      <td>115369.285024</td>\n",
              "      <td>18.322762</td>\n",
              "      <td>8.617733</td>\n",
              "      <td>1.248497e+09</td>\n",
              "      <td>0.291336</td>\n",
              "      <td>0.291336</td>\n",
              "    </tr>\n",
              "    <tr>\n",
              "      <th>min</th>\n",
              "      <td>0.000000</td>\n",
              "      <td>2.000000</td>\n",
              "      <td>9.000000</td>\n",
              "      <td>18.000000</td>\n",
              "      <td>5.209350e+04</td>\n",
              "      <td>0.000000</td>\n",
              "      <td>0.000000</td>\n",
              "    </tr>\n",
              "    <tr>\n",
              "      <th>25%</th>\n",
              "      <td>37777.750000</td>\n",
              "      <td>100642.500000</td>\n",
              "      <td>22.000000</td>\n",
              "      <td>27.000000</td>\n",
              "      <td>1.085934e+09</td>\n",
              "      <td>0.000000</td>\n",
              "      <td>0.000000</td>\n",
              "    </tr>\n",
              "    <tr>\n",
              "      <th>50%</th>\n",
              "      <td>75555.500000</td>\n",
              "      <td>199958.000000</td>\n",
              "      <td>35.000000</td>\n",
              "      <td>33.000000</td>\n",
              "      <td>2.154770e+09</td>\n",
              "      <td>0.000000</td>\n",
              "      <td>0.000000</td>\n",
              "    </tr>\n",
              "    <tr>\n",
              "      <th>75%</th>\n",
              "      <td>113333.250000</td>\n",
              "      <td>300054.000000</td>\n",
              "      <td>49.000000</td>\n",
              "      <td>39.000000</td>\n",
              "      <td>3.243258e+09</td>\n",
              "      <td>0.000000</td>\n",
              "      <td>0.000000</td>\n",
              "    </tr>\n",
              "    <tr>\n",
              "      <th>max</th>\n",
              "      <td>151111.000000</td>\n",
              "      <td>400000.000000</td>\n",
              "      <td>154.000000</td>\n",
              "      <td>76.000000</td>\n",
              "      <td>4.294850e+09</td>\n",
              "      <td>1.000000</td>\n",
              "      <td>1.000000</td>\n",
              "    </tr>\n",
              "  </tbody>\n",
              "</table>\n",
              "</div>"
            ],
            "text/plain": [
              "          Unnamed: 0        user_id  ...          class         result\n",
              "count  151112.000000  151112.000000  ...  151112.000000  151112.000000\n",
              "mean    75555.500000  200171.040970  ...       0.093646       0.093646\n",
              "std     43622.421276  115369.285024  ...       0.291336       0.291336\n",
              "min         0.000000       2.000000  ...       0.000000       0.000000\n",
              "25%     37777.750000  100642.500000  ...       0.000000       0.000000\n",
              "50%     75555.500000  199958.000000  ...       0.000000       0.000000\n",
              "75%    113333.250000  300054.000000  ...       0.000000       0.000000\n",
              "max    151111.000000  400000.000000  ...       1.000000       1.000000\n",
              "\n",
              "[8 rows x 7 columns]"
            ]
          },
          "metadata": {
            "tags": []
          },
          "execution_count": 6
        }
      ]
    },
    {
      "cell_type": "markdown",
      "metadata": {
        "id": "M6phzrj961nS",
        "colab_type": "text"
      },
      "source": [
        "*On cree une colonne avec la difference de temps entre la connexion et l'achat.*"
      ]
    },
    {
      "cell_type": "code",
      "metadata": {
        "id": "NqtaJ0kz1C6k",
        "colab_type": "code",
        "colab": {}
      },
      "source": [
        "purchase = dataset['purchase_time'].apply(lambda x: datetime.strptime(x, '%Y-%m-%d %H:%M:%S'))\n",
        "signup = dataset['signup_time'].apply(lambda x: datetime.strptime(x, '%Y-%m-%d %H:%M:%S'))\n",
        "dataset['delta_time'] = purchase - signup\n",
        "dataset['delta_time'] = dataset['delta_time'].apply(lambda x: x.days)\n",
        "dataset.drop(['Unnamed: 0','user_id', 'signup_time', 'purchase_time','device_id', 'sex'], axis=1, inplace=True)"
      ],
      "execution_count": 0,
      "outputs": []
    },
    {
      "cell_type": "code",
      "metadata": {
        "id": "-gRaFrnn1h_X",
        "colab_type": "code",
        "outputId": "7902e230-29f0-40de-a915-546de1391800",
        "colab": {
          "base_uri": "https://localhost:8080/",
          "height": 196
        }
      },
      "source": [
        "dataset.head()"
      ],
      "execution_count": 0,
      "outputs": [
        {
          "output_type": "execute_result",
          "data": {
            "text/html": [
              "<div>\n",
              "<style scoped>\n",
              "    .dataframe tbody tr th:only-of-type {\n",
              "        vertical-align: middle;\n",
              "    }\n",
              "\n",
              "    .dataframe tbody tr th {\n",
              "        vertical-align: top;\n",
              "    }\n",
              "\n",
              "    .dataframe thead th {\n",
              "        text-align: right;\n",
              "    }\n",
              "</style>\n",
              "<table border=\"1\" class=\"dataframe\">\n",
              "  <thead>\n",
              "    <tr style=\"text-align: right;\">\n",
              "      <th></th>\n",
              "      <th>purchase_value</th>\n",
              "      <th>source</th>\n",
              "      <th>browser</th>\n",
              "      <th>age</th>\n",
              "      <th>ip_address</th>\n",
              "      <th>class</th>\n",
              "      <th>country</th>\n",
              "      <th>delta_time</th>\n",
              "    </tr>\n",
              "  </thead>\n",
              "  <tbody>\n",
              "    <tr>\n",
              "      <th>0</th>\n",
              "      <td>34</td>\n",
              "      <td>SEO</td>\n",
              "      <td>Chrome</td>\n",
              "      <td>39</td>\n",
              "      <td>7.327584e+08</td>\n",
              "      <td>0</td>\n",
              "      <td>Japan</td>\n",
              "      <td>52</td>\n",
              "    </tr>\n",
              "    <tr>\n",
              "      <th>1</th>\n",
              "      <td>16</td>\n",
              "      <td>Ads</td>\n",
              "      <td>Chrome</td>\n",
              "      <td>53</td>\n",
              "      <td>3.503114e+08</td>\n",
              "      <td>0</td>\n",
              "      <td>United States</td>\n",
              "      <td>0</td>\n",
              "    </tr>\n",
              "    <tr>\n",
              "      <th>2</th>\n",
              "      <td>15</td>\n",
              "      <td>SEO</td>\n",
              "      <td>Opera</td>\n",
              "      <td>53</td>\n",
              "      <td>2.621474e+09</td>\n",
              "      <td>1</td>\n",
              "      <td>United States</td>\n",
              "      <td>0</td>\n",
              "    </tr>\n",
              "    <tr>\n",
              "      <th>3</th>\n",
              "      <td>44</td>\n",
              "      <td>SEO</td>\n",
              "      <td>Safari</td>\n",
              "      <td>41</td>\n",
              "      <td>3.840542e+09</td>\n",
              "      <td>0</td>\n",
              "      <td>unknown</td>\n",
              "      <td>5</td>\n",
              "    </tr>\n",
              "    <tr>\n",
              "      <th>4</th>\n",
              "      <td>39</td>\n",
              "      <td>Ads</td>\n",
              "      <td>Safari</td>\n",
              "      <td>45</td>\n",
              "      <td>4.155831e+08</td>\n",
              "      <td>0</td>\n",
              "      <td>United States</td>\n",
              "      <td>50</td>\n",
              "    </tr>\n",
              "  </tbody>\n",
              "</table>\n",
              "</div>"
            ],
            "text/plain": [
              "   purchase_value source browser  ...  class        country  delta_time\n",
              "0              34    SEO  Chrome  ...      0          Japan          52\n",
              "1              16    Ads  Chrome  ...      0  United States           0\n",
              "2              15    SEO   Opera  ...      1  United States           0\n",
              "3              44    SEO  Safari  ...      0        unknown           5\n",
              "4              39    Ads  Safari  ...      0  United States          50\n",
              "\n",
              "[5 rows x 8 columns]"
            ]
          },
          "metadata": {
            "tags": []
          },
          "execution_count": 21
        }
      ]
    },
    {
      "cell_type": "markdown",
      "metadata": {
        "id": "_yHxf2yBkbXf",
        "colab_type": "text"
      },
      "source": [
        "*Les variables les plus importantes dans notre dataframe sont purchase_value, class et la difference de temps entre la connexion sur le site et l'achat (delta_time)*"
      ]
    },
    {
      "cell_type": "code",
      "metadata": {
        "id": "oEad2whhBQy3",
        "colab_type": "code",
        "outputId": "e128e151-0faf-40a0-a6af-e27a8354b418",
        "colab": {
          "base_uri": "https://localhost:8080/",
          "height": 251
        }
      },
      "source": [
        "dataset.info()"
      ],
      "execution_count": 0,
      "outputs": [
        {
          "output_type": "stream",
          "text": [
            "<class 'pandas.core.frame.DataFrame'>\n",
            "RangeIndex: 151112 entries, 0 to 151111\n",
            "Data columns (total 9 columns):\n",
            "purchase_value    151112 non-null int64\n",
            "source            151112 non-null object\n",
            "browser           151112 non-null object\n",
            "age               151112 non-null int64\n",
            "ip_address        151112 non-null float64\n",
            "class             151112 non-null int64\n",
            "country           151112 non-null object\n",
            "result            151112 non-null int64\n",
            "delta_time        151112 non-null int64\n",
            "dtypes: float64(1), int64(5), object(3)\n",
            "memory usage: 10.4+ MB\n"
          ],
          "name": "stdout"
        }
      ]
    },
    {
      "cell_type": "markdown",
      "metadata": {
        "id": "kQbu_IwFMVPK",
        "colab_type": "text"
      },
      "source": [
        "## Exploration des données"
      ]
    },
    {
      "cell_type": "code",
      "metadata": {
        "id": "nvmsj1-miKmt",
        "colab_type": "code",
        "colab": {}
      },
      "source": [
        "Fraude = dataset.query('result == 1')\n",
        "Pas_de_Fraude = dataset.query('result == 0')"
      ],
      "execution_count": 0,
      "outputs": []
    },
    {
      "cell_type": "code",
      "metadata": {
        "id": "i-MSFfGRelwN",
        "colab_type": "code",
        "outputId": "cac9461b-c373-4746-ac64-ec4d8ec63a86",
        "colab": {
          "base_uri": "https://localhost:8080/",
          "height": 33
        }
      },
      "source": [
        "dataset[\"result\"].mean()*100"
      ],
      "execution_count": 0,
      "outputs": [
        {
          "output_type": "execute_result",
          "data": {
            "text/plain": [
              "9.364577267192546"
            ]
          },
          "metadata": {
            "tags": []
          },
          "execution_count": 11
        }
      ]
    },
    {
      "cell_type": "code",
      "metadata": {
        "id": "m2lAmqGBm4Ks",
        "colab_type": "code",
        "outputId": "1244e914-318d-444a-f811-c02621c1c6fc",
        "colab": {
          "base_uri": "https://localhost:8080/",
          "height": 348
        }
      },
      "source": [
        "total_fraude = Fraude['purchase_value'].sum()\n",
        "total_ventes = dataset['purchase_value'].sum()\n",
        "total_ventes_reglos = total_ventes - total_fraude\n",
        "\n",
        "labels = \"Part du CA impacté par la fraude\",\"Part du CA non impacté par la fraude\"\n",
        "sizes = [total_fraude,total_ventes_reglos]\n",
        "explode = (0.1, 0, 0, 0)\n",
        "\n",
        "fig1, ax1 = plt.subplots()\n",
        "ax1.pie(sizes, labels=labels, autopct='%1.1f%%', shadow=True, startangle=90)"
      ],
      "execution_count": 0,
      "outputs": [
        {
          "output_type": "execute_result",
          "data": {
            "text/plain": [
              "([<matplotlib.patches.Wedge at 0x7fd6a1fbb4e0>,\n",
              "  <matplotlib.patches.Wedge at 0x7fd6a1fbbe10>],\n",
              " [Text(-0.31945168554292525, 1.0525923335288854, 'Part du CA impacté par la fraude'),\n",
              "  Text(0.31945166090522314, -1.0525923410061915, 'Part du CA non impacté par la fraude')],\n",
              " [Text(-0.17424637393250467, 0.5741412728339375, '9.4%'),\n",
              "  Text(0.17424636049375808, -0.574141276912468, '90.6%')])"
            ]
          },
          "metadata": {
            "tags": []
          },
          "execution_count": 13
        },
        {
          "output_type": "display_data",
          "data": {
            "image/png": "[encoded data removed]",
            "text/plain": [
              "<Figure size 432x288 with 1 Axes>"
            ]
          },
          "metadata": {
            "tags": []
          }
        }
      ]
    },
    {
      "cell_type": "markdown",
      "metadata": {
        "id": "SxtLG-Hge8h4",
        "colab_type": "text"
      },
      "source": [
        "*Il y a environ 9.4 % des transactions frauduleuses dans notre dataset*"
      ]
    },
    {
      "cell_type": "code",
      "metadata": {
        "id": "zsXbE5i8qvwV",
        "colab_type": "code",
        "outputId": "933346cc-def6-4df0-d9cd-c7f3ba657c9e",
        "colab": {
          "base_uri": "https://localhost:8080/",
          "height": 50
        }
      },
      "source": [
        "print(\"Les ventes impactées par la fraude s'élèvent à :\" , total_fraude,\"$\")\n",
        "print(\"Pour comparaison, les ventes totales s'élèvent elle à :\" , total_ventes ,\"$\")"
      ],
      "execution_count": 0,
      "outputs": [
        {
          "output_type": "stream",
          "text": [
            "Les ventes impactées par la fraude s'élèvent à : 523488 $\n",
            "Pour comparaison, les ventes totales s'élèvent elle à : 5581378 $\n"
          ],
          "name": "stdout"
        }
      ]
    },
    {
      "cell_type": "markdown",
      "metadata": {
        "id": "9CEG1xgrsrLI",
        "colab_type": "text"
      },
      "source": [
        "*### On observe les pays où il y a le plus de cas frauduleux* "
      ]
    },
    {
      "cell_type": "code",
      "metadata": {
        "id": "RhHa9DEKr7Tr",
        "colab_type": "code",
        "outputId": "9058b594-a03d-4960-c274-7e200daa5ddc",
        "colab": {
          "base_uri": "https://localhost:8080/",
          "height": 265
        }
      },
      "source": [
        "dataset.country.value_counts()[dataset.country.value_counts() >2000].plot(kind=\"pie\")"
      ],
      "execution_count": 0,
      "outputs": [
        {
          "output_type": "execute_result",
          "data": {
            "text/plain": [
              "<matplotlib.axes._subplots.AxesSubplot at 0x7fd6a376aa20>"
            ]
          },
          "metadata": {
            "tags": []
          },
          "execution_count": 14
        },
        {
          "output_type": "display_data",
          "data": {
            "image/png": "[encoded data removed]",
            "text/plain": [
              "<Figure size 432x288 with 1 Axes>"
            ]
          },
          "metadata": {
            "tags": []
          }
        }
      ]
    },
    {
      "cell_type": "code",
      "metadata": {
        "id": "UYgiqWgsNNOq",
        "colab_type": "code",
        "outputId": "3aae1b85-3106-4cea-f603-ace823b5de79",
        "colab": {
          "base_uri": "https://localhost:8080/",
          "height": 311
        }
      },
      "source": [
        "total = dataset['class'].sum()\n",
        "dataset_country = dataset.groupby('country').sum()\n",
        "sorted_country_fraud = dataset_country['class'].sort_values(ascending=False)\n",
        "    \n",
        "y1 = sorted_country_fraud[:10]/float(total)\n",
        "x = np.arange(len(y1))\n",
        "    \n",
        "fig, ax = plt.subplots()\n",
        "\n",
        "ax.bar(x, y1)\n",
        "ax.bar(x, y1)\n",
        "ax.set_ylabel('Pourcentage total des fraudes')\n",
        "ax.set_title('Pourcentage total des fraudes par pays')\n",
        "ax.set_xticks(x)\n",
        "ax.set_xticklabels(sorted_country_fraud.index.values[:10], rotation=45)\n",
        "ax.grid(False)\n",
        "plt.tight_layout(pad=0.4, w_pad=0.5, h_pad=1.0)\n",
        "plt.savefig('Pourcentage total des fraudes par pays')"
      ],
      "execution_count": 0,
      "outputs": [
        {
          "output_type": "display_data",
          "data": {
            "image/png": "[encoded data removed]",
            "text/plain": [
              "<Figure size 432x288 with 1 Axes>"
            ]
          },
          "metadata": {
            "tags": []
          }
        }
      ]
    },
    {
      "cell_type": "markdown",
      "metadata": {
        "id": "40iSUSAnNWZ_",
        "colab_type": "text"
      },
      "source": [
        "*On a environ 22 000 de toutes les adresses IP appariées provenaient d'un pays \"inconnu\". Avec environ 14 000 transactions frauduleuses. 39% des événements frauduleux provenaient d'adresses IP aux États-Unis et 13% provenaient d'un pays \"inconnu\". Pour cette raison, On a choisi de ne pas inclure le pays d'un utilisateur en tant qu'élément de prédiction de la fraude*"
      ]
    },
    {
      "cell_type": "code",
      "metadata": {
        "id": "iTW4V2sz3TAA",
        "colab_type": "code",
        "colab": {}
      },
      "source": [
        "# Dummification : On crée des variables nominales pour les fonctionnalités catégorielles\n",
        "cols = ['source', 'browser', 'country']\n",
        "dataset1 = pd.get_dummies(dataset, columns=cols)"
      ],
      "execution_count": 0,
      "outputs": []
    },
    {
      "cell_type": "code",
      "metadata": {
        "id": "vIoQ1KMb1oj5",
        "colab_type": "code",
        "colab": {}
      },
      "source": [
        "from sklearn.model_selection import train_test_split\n",
        "y = dataset1['class']\n",
        "X = dataset1.drop('class', axis=1)\n",
        "X_train, X_test, y_train, y_test = train_test_split(X, y, stratify=y, test_size=0.25, random_state=42)"
      ],
      "execution_count": 0,
      "outputs": []
    },
    {
      "cell_type": "markdown",
      "metadata": {
        "id": "Z48gsLnN6uRo",
        "colab_type": "text"
      },
      "source": [
        "## *NORMALISATION*"
      ]
    },
    {
      "cell_type": "code",
      "metadata": {
        "id": "JXJWzFK23XLh",
        "colab_type": "code",
        "colab": {}
      },
      "source": [
        "from sklearn.preprocessing import StandardScaler\n",
        "sc = StandardScaler()\n",
        "X_train = sc.fit_transform(X_train)\n",
        "X_test = sc.transform(X_test)"
      ],
      "execution_count": 0,
      "outputs": []
    },
    {
      "cell_type": "markdown",
      "metadata": {
        "id": "yxCrMotByXnu",
        "colab_type": "text"
      },
      "source": [
        "##*REGRESSION LOGISTIQUE*"
      ]
    },
    {
      "cell_type": "code",
      "metadata": {
        "id": "Wg6AbNxc2u0-",
        "colab_type": "code",
        "outputId": "9ef8145e-4293-4d12-c1d3-d333c7fa5982",
        "colab": {
          "base_uri": "https://localhost:8080/",
          "height": 154
        }
      },
      "source": [
        "from sklearn.linear_model import LogisticRegression\n",
        "LogisReg = LogisticRegression(class_weight='balanced')\n",
        "LogisReg.fit(X_train, y_train)"
      ],
      "execution_count": 0,
      "outputs": [
        {
          "output_type": "stream",
          "text": [
            "/usr/local/lib/python3.6/dist-packages/sklearn/linear_model/logistic.py:432: FutureWarning: Default solver will be changed to 'lbfgs' in 0.22. Specify a solver to silence this warning.\n",
            "  FutureWarning)\n"
          ],
          "name": "stderr"
        },
        {
          "output_type": "execute_result",
          "data": {
            "text/plain": [
              "LogisticRegression(C=1.0, class_weight='balanced', dual=False,\n",
              "                   fit_intercept=True, intercept_scaling=1, l1_ratio=None,\n",
              "                   max_iter=100, multi_class='warn', n_jobs=None, penalty='l2',\n",
              "                   random_state=None, solver='warn', tol=0.0001, verbose=0,\n",
              "                   warm_start=False)"
            ]
          },
          "metadata": {
            "tags": []
          },
          "execution_count": 26
        }
      ]
    },
    {
      "cell_type": "code",
      "metadata": {
        "id": "H1ZfSQSIjUwa",
        "colab_type": "code",
        "outputId": "fd1e56fa-a588-4774-aa8b-267cf59cfcfc",
        "colab": {
          "base_uri": "https://localhost:8080/",
          "height": 33
        }
      },
      "source": [
        "LogisReg.score(X_test, y_test)"
      ],
      "execution_count": 0,
      "outputs": [
        {
          "output_type": "execute_result",
          "data": {
            "text/plain": [
              "0.6476785430673937"
            ]
          },
          "metadata": {
            "tags": []
          },
          "execution_count": 27
        }
      ]
    },
    {
      "cell_type": "code",
      "metadata": {
        "id": "Fc2DbDV5kR_1",
        "colab_type": "code",
        "colab": {}
      },
      "source": [
        "y_pred = LogisReg.predict(X_test)"
      ],
      "execution_count": 0,
      "outputs": []
    },
    {
      "cell_type": "markdown",
      "metadata": {
        "id": "iI_ZAtIVcMcs",
        "colab_type": "text"
      },
      "source": [
        "### **La matrice de confusion de nos prédictions sur l’échantillon de test et d’apprentissage**"
      ]
    },
    {
      "cell_type": "code",
      "metadata": {
        "id": "vNHoUaHbi2TW",
        "colab_type": "code",
        "outputId": "07b00dcd-3fa1-4d72-ae17-f613edc0ddd1",
        "colab": {
          "base_uri": "https://localhost:8080/",
          "height": 286
        }
      },
      "source": [
        "from sklearn.metrics import confusion_matrix\n",
        "cm = confusion_matrix(y_test, y_pred)\n",
        "sns.heatmap(cm, annot=True, fmt=\"d\")"
      ],
      "execution_count": 0,
      "outputs": [
        {
          "output_type": "execute_result",
          "data": {
            "text/plain": [
              "<matplotlib.axes._subplots.AxesSubplot at 0x7fd69d3bbdd8>"
            ]
          },
          "metadata": {
            "tags": []
          },
          "execution_count": 30
        },
        {
          "output_type": "display_data",
          "data": {
            "image/png": "[encoded data removed]",
            "text/plain": [
              "<Figure size 432x288 with 2 Axes>"
            ]
          },
          "metadata": {
            "tags": []
          }
        }
      ]
    },
    {
      "cell_type": "code",
      "metadata": {
        "id": "rbj1Z1HGlMBH",
        "colab_type": "code",
        "outputId": "500e9fde-0aa4-436f-fc51-dcbb004fbf35",
        "colab": {
          "base_uri": "https://localhost:8080/",
          "height": 295
        }
      },
      "source": [
        "from sklearn.metrics import roc_auc_score\n",
        "from sklearn.metrics import roc_curve\n",
        "logit_roc_auc = roc_auc_score(y_test, LogisReg.predict(X_test))\n",
        "fpr, tpr, thresholds = roc_curve(y_test, LogisReg.predict_proba(X_test)[:,1])\n",
        "plt.figure()\n",
        "plt.plot(fpr, tpr, label='Logistic Regression (area = %0.2f)' % logit_roc_auc)\n",
        "plt.plot([0, 1], [0, 1],'r--')\n",
        "plt.xlim([-0.05, 1.05])\n",
        "plt.ylim([-0.05, 1.05])\n",
        "plt.xlabel('Taux des Faux postifs')\n",
        "plt.ylabel('Taux des vrais Positifs')\n",
        "plt.title('ROC')\n",
        "plt.legend(loc=\"lower right\")\n",
        "plt.savefig('Log_ROC')\n",
        "plt.show()"
      ],
      "execution_count": 0,
      "outputs": [
        {
          "output_type": "display_data",
          "data": {
            "image/png": "[encoded data removed]",
            "text/plain": [
              "<Figure size 432x288 with 1 Axes>"
            ]
          },
          "metadata": {
            "tags": []
          }
        }
      ]
    },
    {
      "cell_type": "markdown",
      "metadata": {
        "id": "nZ2GrsWN5tux",
        "colab_type": "text"
      },
      "source": [
        "## RANDOM FOREST REGRESSOR"
      ]
    },
    {
      "cell_type": "code",
      "metadata": {
        "id": "ne8_QDEV5cVi",
        "colab_type": "code",
        "colab": {}
      },
      "source": [
        "from sklearn.ensemble import RandomForestRegressor"
      ],
      "execution_count": 0,
      "outputs": []
    },
    {
      "cell_type": "code",
      "metadata": {
        "id": "n48lNHgv6owM",
        "colab_type": "code",
        "outputId": "6518d17b-3349-43e2-f8e6-c412a51b879a",
        "colab": {
          "base_uri": "https://localhost:8080/",
          "height": 187
        }
      },
      "source": [
        "rf = RandomForestClassifier(class_weight = 'balanced')\n",
        "rf.fit(X_train, y_train)"
      ],
      "execution_count": 0,
      "outputs": [
        {
          "output_type": "stream",
          "text": [
            "/usr/local/lib/python3.6/dist-packages/sklearn/ensemble/forest.py:245: FutureWarning: The default value of n_estimators will change from 10 in version 0.20 to 100 in 0.22.\n",
            "  \"10 in version 0.20 to 100 in 0.22.\", FutureWarning)\n"
          ],
          "name": "stderr"
        },
        {
          "output_type": "execute_result",
          "data": {
            "text/plain": [
              "RandomForestClassifier(bootstrap=True, class_weight='balanced',\n",
              "                       criterion='gini', max_depth=None, max_features='auto',\n",
              "                       max_leaf_nodes=None, min_impurity_decrease=0.0,\n",
              "                       min_impurity_split=None, min_samples_leaf=1,\n",
              "                       min_samples_split=2, min_weight_fraction_leaf=0.0,\n",
              "                       n_estimators=10, n_jobs=None, oob_score=False,\n",
              "                       random_state=None, verbose=0, warm_start=False)"
            ]
          },
          "metadata": {
            "tags": []
          },
          "execution_count": 34
        }
      ]
    },
    {
      "cell_type": "code",
      "metadata": {
        "id": "Gto8vSr10s61",
        "colab_type": "code",
        "colab": {}
      },
      "source": [
        "predictions = rf.predict(X_test)\n",
        "f1 = f1_score(y_test, predictions)\n",
        "recall = recall_score(y_test, predictions)\n",
        "accuracy = rf.score(X_test, y_test)"
      ],
      "execution_count": 0,
      "outputs": []
    },
    {
      "cell_type": "code",
      "metadata": {
        "id": "E-P6NTLR073h",
        "colab_type": "code",
        "outputId": "ba457830-a483-4bff-a6af-d8eab1e945b6",
        "colab": {
          "base_uri": "https://localhost:8080/",
          "height": 33
        }
      },
      "source": [
        "accuracy"
      ],
      "execution_count": 0,
      "outputs": [
        {
          "output_type": "execute_result",
          "data": {
            "text/plain": [
              "0.9520091058287893"
            ]
          },
          "metadata": {
            "tags": []
          },
          "execution_count": 36
        }
      ]
    },
    {
      "cell_type": "code",
      "metadata": {
        "id": "1slM5S8h2MAB",
        "colab_type": "code",
        "outputId": "a8b6aa45-2a48-4dc7-eb73-2d59129fab58",
        "colab": {
          "base_uri": "https://localhost:8080/",
          "height": 33
        }
      },
      "source": [
        "f1"
      ],
      "execution_count": 0,
      "outputs": [
        {
          "output_type": "execute_result",
          "data": {
            "text/plain": [
              "0.675264194877306"
            ]
          },
          "metadata": {
            "tags": []
          },
          "execution_count": 37
        }
      ]
    },
    {
      "cell_type": "code",
      "metadata": {
        "id": "cJXYP6Fh2n_x",
        "colab_type": "code",
        "outputId": "4d21aa21-cdd8-414d-ceab-0465cd0639f5",
        "colab": {
          "base_uri": "https://localhost:8080/",
          "height": 33
        }
      },
      "source": [
        "recall"
      ],
      "execution_count": 0,
      "outputs": [
        {
          "output_type": "execute_result",
          "data": {
            "text/plain": [
              "0.5327868852459017"
            ]
          },
          "metadata": {
            "tags": []
          },
          "execution_count": 38
        }
      ]
    },
    {
      "cell_type": "markdown",
      "metadata": {
        "id": "_g5IVL2ANIye",
        "colab_type": "text"
      },
      "source": [
        "# CONCLUSION"
      ]
    },
    {
      "cell_type": "markdown",
      "metadata": {
        "id": "3rlj7CpRj5B0",
        "colab_type": "text"
      },
      "source": [
        "*En conclusion, nous devons prendre en compte les coûts de la prévision de la fraude quand elle se produit réellement, de la prédire quand elle ne s'est pas produite et de la non prévision de la fraude quand elle s'est réellement produite. Si nous prévoyons qu'une transaction n'est pas frauduleuse, on risque de perdre de l'argent et la confiance de nos clients. Lorsque nous prévoyons qu'une transaction est frauduleuse alors que ce n'est pas le cas, nous risquons de perdre la confiance. Pour ces raisons, nous souhaitons nous concentrer sur les rappels afin de minimiser les prédictions des faux negatifs et sur la précision des prédictions de fraudes faux positifss. Le modèle prédit actuellement avec une précision de 95% et un rappel de 53%.*"
      ]
    }
  ]
}